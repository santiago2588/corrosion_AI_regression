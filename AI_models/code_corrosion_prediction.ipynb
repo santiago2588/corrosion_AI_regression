{
 "cells": [
  {
   "cell_type": "code",
   "execution_count": 50,
   "id": "7c0cd6c8",
   "metadata": {
    "pycharm": {
     "name": "#%%\n"
    }
   },
   "outputs": [],
   "source": [
    "matplotlib inline"
   ]
  },
  {
   "cell_type": "code",
   "execution_count": 51,
   "id": "e430671a",
   "metadata": {
    "pycharm": {
     "name": "#%%\n"
    }
   },
   "outputs": [],
   "source": [
    "import pandas as pd\n",
    "import numpy as np\n",
    "#import shap\n"
   ]
  },
  {
   "cell_type": "code",
   "execution_count": 52,
   "id": "a151f401",
   "metadata": {
    "pycharm": {
     "name": "#%%\n"
    }
   },
   "outputs": [],
   "source": [
    "file=\"C:/Users/saint/DataspellProjects/corrosion_batch/Databases/\""
   ]
  },
  {
   "cell_type": "code",
   "execution_count": 53,
   "id": "d7f9ee04",
   "metadata": {
    "pycharm": {
     "name": "#%%\n"
    }
   },
   "outputs": [],
   "source": [
    "corr_df = pd.read_csv(file+\"corr_database_less_data.csv\")"
   ]
  },
  {
   "cell_type": "code",
   "execution_count": 54,
   "id": "373ef295",
   "metadata": {
    "pycharm": {
     "name": "#%%\n"
    },
    "scrolled": false
   },
   "outputs": [
    {
     "data": {
      "text/plain": "     BPPD     BAPD  Caudal_gas_MSCFD  Presion_cabeza_psi  \\\n0  273.00  5187.00             120.0                 160   \n1  306.90   251.10              33.0                 180   \n2   30.00   970.00              51.0                 200   \n3  311.64   324.36              28.0                 210   \n4  412.48  4743.52              48.0                 200   \n\n   Temperatura_cabeza_F  Salinidad_ppm  CO2_gas  bicarbonatos_ppm  \\\n0                   220          76600        7               240   \n1                   130          74000        0               281   \n2                   192          73000       15               120   \n3                   160          36200       15               220   \n4                   150          82200       20               400   \n\n   dosis_IC_ppm  Fe_ppm      mpy  \n0            50   45.90  8.41626  \n1            50   77.11  0.10024  \n2            90   54.00  7.17844  \n3            40   56.21  1.50500  \n4            40   54.80  0.71894  ",
      "text/html": "<div>\n<style scoped>\n    .dataframe tbody tr th:only-of-type {\n        vertical-align: middle;\n    }\n\n    .dataframe tbody tr th {\n        vertical-align: top;\n    }\n\n    .dataframe thead th {\n        text-align: right;\n    }\n</style>\n<table border=\"1\" class=\"dataframe\">\n  <thead>\n    <tr style=\"text-align: right;\">\n      <th></th>\n      <th>BPPD</th>\n      <th>BAPD</th>\n      <th>Caudal_gas_MSCFD</th>\n      <th>Presion_cabeza_psi</th>\n      <th>Temperatura_cabeza_F</th>\n      <th>Salinidad_ppm</th>\n      <th>CO2_gas</th>\n      <th>bicarbonatos_ppm</th>\n      <th>dosis_IC_ppm</th>\n      <th>Fe_ppm</th>\n      <th>mpy</th>\n    </tr>\n  </thead>\n  <tbody>\n    <tr>\n      <th>0</th>\n      <td>273.00</td>\n      <td>5187.00</td>\n      <td>120.0</td>\n      <td>160</td>\n      <td>220</td>\n      <td>76600</td>\n      <td>7</td>\n      <td>240</td>\n      <td>50</td>\n      <td>45.90</td>\n      <td>8.41626</td>\n    </tr>\n    <tr>\n      <th>1</th>\n      <td>306.90</td>\n      <td>251.10</td>\n      <td>33.0</td>\n      <td>180</td>\n      <td>130</td>\n      <td>74000</td>\n      <td>0</td>\n      <td>281</td>\n      <td>50</td>\n      <td>77.11</td>\n      <td>0.10024</td>\n    </tr>\n    <tr>\n      <th>2</th>\n      <td>30.00</td>\n      <td>970.00</td>\n      <td>51.0</td>\n      <td>200</td>\n      <td>192</td>\n      <td>73000</td>\n      <td>15</td>\n      <td>120</td>\n      <td>90</td>\n      <td>54.00</td>\n      <td>7.17844</td>\n    </tr>\n    <tr>\n      <th>3</th>\n      <td>311.64</td>\n      <td>324.36</td>\n      <td>28.0</td>\n      <td>210</td>\n      <td>160</td>\n      <td>36200</td>\n      <td>15</td>\n      <td>220</td>\n      <td>40</td>\n      <td>56.21</td>\n      <td>1.50500</td>\n    </tr>\n    <tr>\n      <th>4</th>\n      <td>412.48</td>\n      <td>4743.52</td>\n      <td>48.0</td>\n      <td>200</td>\n      <td>150</td>\n      <td>82200</td>\n      <td>20</td>\n      <td>400</td>\n      <td>40</td>\n      <td>54.80</td>\n      <td>0.71894</td>\n    </tr>\n  </tbody>\n</table>\n</div>"
     },
     "execution_count": 54,
     "metadata": {},
     "output_type": "execute_result"
    }
   ],
   "source": [
    "corr_df.head()"
   ]
  },
  {
   "cell_type": "code",
   "execution_count": 55,
   "id": "bc769173",
   "metadata": {
    "pycharm": {
     "name": "#%%\n"
    }
   },
   "outputs": [
    {
     "data": {
      "text/plain": "              BPPD         BAPD  Caudal_gas_MSCFD  Presion_cabeza_psi  \\\ncount    77.000000    77.000000         77.000000           77.000000   \nmean    381.881805  1802.848325        127.924156          165.857143   \nstd     345.066978  1520.476985        124.992756           58.820359   \nmin      30.000000    37.240000         10.500000           78.000000   \n25%     185.470000   439.280000         40.000000          130.000000   \n50%     286.830000  1537.900000         66.000000          160.000000   \n75%     403.000000  2830.100000        206.000000          195.000000   \nmax    1883.250000  6666.480000        561.000000          400.000000   \n\n       Temperatura_cabeza_F  Salinidad_ppm    CO2_gas  bicarbonatos_ppm  \\\ncount             77.000000      77.000000  77.000000         77.000000   \nmean             182.012987   42309.909091  10.688312        446.636364   \nstd               35.367802   22067.353688   9.273987        310.737447   \nmin               80.000000    5000.000000   0.000000        100.000000   \n25%              160.000000   25000.000000   5.000000        220.000000   \n50%              192.000000   43000.000000   7.000000        300.000000   \n75%              210.000000   60000.000000  15.000000        710.000000   \nmax              220.000000   82200.000000  40.000000       1290.000000   \n\n       dosis_IC_ppm     Fe_ppm        mpy  \ncount     77.000000  77.000000  77.000000  \nmean      59.623377  34.273961   2.493065  \nstd       30.693750  18.754529   3.556521  \nmin       15.000000   3.600000   0.100240  \n25%       40.000000  19.000000   0.676190  \n50%       50.000000  37.500000   1.618040  \n75%       70.000000  48.900000   2.716030  \nmax      200.000000  77.110000  23.082550  ",
      "text/html": "<div>\n<style scoped>\n    .dataframe tbody tr th:only-of-type {\n        vertical-align: middle;\n    }\n\n    .dataframe tbody tr th {\n        vertical-align: top;\n    }\n\n    .dataframe thead th {\n        text-align: right;\n    }\n</style>\n<table border=\"1\" class=\"dataframe\">\n  <thead>\n    <tr style=\"text-align: right;\">\n      <th></th>\n      <th>BPPD</th>\n      <th>BAPD</th>\n      <th>Caudal_gas_MSCFD</th>\n      <th>Presion_cabeza_psi</th>\n      <th>Temperatura_cabeza_F</th>\n      <th>Salinidad_ppm</th>\n      <th>CO2_gas</th>\n      <th>bicarbonatos_ppm</th>\n      <th>dosis_IC_ppm</th>\n      <th>Fe_ppm</th>\n      <th>mpy</th>\n    </tr>\n  </thead>\n  <tbody>\n    <tr>\n      <th>count</th>\n      <td>77.000000</td>\n      <td>77.000000</td>\n      <td>77.000000</td>\n      <td>77.000000</td>\n      <td>77.000000</td>\n      <td>77.000000</td>\n      <td>77.000000</td>\n      <td>77.000000</td>\n      <td>77.000000</td>\n      <td>77.000000</td>\n      <td>77.000000</td>\n    </tr>\n    <tr>\n      <th>mean</th>\n      <td>381.881805</td>\n      <td>1802.848325</td>\n      <td>127.924156</td>\n      <td>165.857143</td>\n      <td>182.012987</td>\n      <td>42309.909091</td>\n      <td>10.688312</td>\n      <td>446.636364</td>\n      <td>59.623377</td>\n      <td>34.273961</td>\n      <td>2.493065</td>\n    </tr>\n    <tr>\n      <th>std</th>\n      <td>345.066978</td>\n      <td>1520.476985</td>\n      <td>124.992756</td>\n      <td>58.820359</td>\n      <td>35.367802</td>\n      <td>22067.353688</td>\n      <td>9.273987</td>\n      <td>310.737447</td>\n      <td>30.693750</td>\n      <td>18.754529</td>\n      <td>3.556521</td>\n    </tr>\n    <tr>\n      <th>min</th>\n      <td>30.000000</td>\n      <td>37.240000</td>\n      <td>10.500000</td>\n      <td>78.000000</td>\n      <td>80.000000</td>\n      <td>5000.000000</td>\n      <td>0.000000</td>\n      <td>100.000000</td>\n      <td>15.000000</td>\n      <td>3.600000</td>\n      <td>0.100240</td>\n    </tr>\n    <tr>\n      <th>25%</th>\n      <td>185.470000</td>\n      <td>439.280000</td>\n      <td>40.000000</td>\n      <td>130.000000</td>\n      <td>160.000000</td>\n      <td>25000.000000</td>\n      <td>5.000000</td>\n      <td>220.000000</td>\n      <td>40.000000</td>\n      <td>19.000000</td>\n      <td>0.676190</td>\n    </tr>\n    <tr>\n      <th>50%</th>\n      <td>286.830000</td>\n      <td>1537.900000</td>\n      <td>66.000000</td>\n      <td>160.000000</td>\n      <td>192.000000</td>\n      <td>43000.000000</td>\n      <td>7.000000</td>\n      <td>300.000000</td>\n      <td>50.000000</td>\n      <td>37.500000</td>\n      <td>1.618040</td>\n    </tr>\n    <tr>\n      <th>75%</th>\n      <td>403.000000</td>\n      <td>2830.100000</td>\n      <td>206.000000</td>\n      <td>195.000000</td>\n      <td>210.000000</td>\n      <td>60000.000000</td>\n      <td>15.000000</td>\n      <td>710.000000</td>\n      <td>70.000000</td>\n      <td>48.900000</td>\n      <td>2.716030</td>\n    </tr>\n    <tr>\n      <th>max</th>\n      <td>1883.250000</td>\n      <td>6666.480000</td>\n      <td>561.000000</td>\n      <td>400.000000</td>\n      <td>220.000000</td>\n      <td>82200.000000</td>\n      <td>40.000000</td>\n      <td>1290.000000</td>\n      <td>200.000000</td>\n      <td>77.110000</td>\n      <td>23.082550</td>\n    </tr>\n  </tbody>\n</table>\n</div>"
     },
     "execution_count": 55,
     "metadata": {},
     "output_type": "execute_result"
    }
   ],
   "source": [
    "corr_df.describe()"
   ]
  },
  {
   "cell_type": "code",
   "execution_count": 56,
   "id": "1a3c1605",
   "metadata": {
    "pycharm": {
     "name": "#%%\n"
    }
   },
   "outputs": [],
   "source": [
    "#eda(display_format = 'svg')"
   ]
  },
  {
   "cell_type": "code",
   "execution_count": 57,
   "id": "331d60b0",
   "metadata": {
    "pycharm": {
     "name": "#%%\n"
    }
   },
   "outputs": [],
   "source": [
    "from pycaret.regression import *"
   ]
  },
  {
   "cell_type": "code",
   "execution_count": 58,
   "id": "c2020a5f",
   "metadata": {
    "pycharm": {
     "name": "#%%\n"
    },
    "scrolled": false
   },
   "outputs": [
    {
     "data": {
      "text/plain": "<IPython.core.display.HTML object>",
      "text/html": ""
     },
     "metadata": {},
     "output_type": "display_data"
    }
   ],
   "source": [
    "exp_clf01 = setup(data = corr_df, target = 'mpy', session_id = 123)"
   ]
  },
  {
   "cell_type": "code",
   "execution_count": 59,
   "id": "dac110fc",
   "metadata": {
    "pycharm": {
     "name": "#%%\n"
    },
    "scrolled": true
   },
   "outputs": [
    {
     "data": {
      "text/plain": "                                                                    \n                                                                    \nInitiated  . . . . . . . . . . . . . . . . . .              20:41:44\nStatus     . . . . . . . . . . . . . . . . . .  Loading Dependencies\nEstimator  . . . . . . . . . . . . . . . . . .     Compiling Library",
      "text/html": "<div>\n<style scoped>\n    .dataframe tbody tr th:only-of-type {\n        vertical-align: middle;\n    }\n\n    .dataframe tbody tr th {\n        vertical-align: top;\n    }\n\n    .dataframe thead th {\n        text-align: right;\n    }\n</style>\n<table border=\"1\" class=\"dataframe\">\n  <thead>\n    <tr style=\"text-align: right;\">\n      <th></th>\n      <th></th>\n      <th></th>\n    </tr>\n    <tr>\n      <th></th>\n      <th></th>\n      <th></th>\n    </tr>\n  </thead>\n  <tbody>\n    <tr>\n      <th>Initiated</th>\n      <td>. . . . . . . . . . . . . . . . . .</td>\n      <td>20:41:44</td>\n    </tr>\n    <tr>\n      <th>Status</th>\n      <td>. . . . . . . . . . . . . . . . . .</td>\n      <td>Loading Dependencies</td>\n    </tr>\n    <tr>\n      <th>Estimator</th>\n      <td>. . . . . . . . . . . . . . . . . .</td>\n      <td>Compiling Library</td>\n    </tr>\n  </tbody>\n</table>\n</div>"
     },
     "metadata": {},
     "output_type": "display_data"
    },
    {
     "data": {
      "text/plain": "<IPython.core.display.HTML object>",
      "text/html": ""
     },
     "metadata": {},
     "output_type": "display_data"
    },
    {
     "data": {
      "text/plain": "Processing:   0%|          | 0/77 [00:00<?, ?it/s]",
      "application/vnd.jupyter.widget-view+json": {
       "version_major": 2,
       "version_minor": 0,
       "model_id": "81c7d106ded14cb08c64646a97bddcfd"
      }
     },
     "metadata": {},
     "output_type": "display_data"
    }
   ],
   "source": [
    "best = compare_models()"
   ]
  },
  {
   "cell_type": "code",
   "execution_count": 60,
   "id": "5030c491",
   "metadata": {
    "pycharm": {
     "name": "#%%\n"
    },
    "scrolled": true
   },
   "outputs": [
    {
     "data": {
      "text/plain": "<IPython.core.display.HTML object>",
      "text/html": ""
     },
     "metadata": {},
     "output_type": "display_data"
    }
   ],
   "source": [
    "exp_clf102 = setup(data = corr_df, target = 'mpy',session_id=123,normalize = True)"
   ]
  },
  {
   "cell_type": "code",
   "execution_count": 61,
   "id": "76dcc262",
   "metadata": {
    "pycharm": {
     "name": "#%%\n"
    },
    "scrolled": true
   },
   "outputs": [
    {
     "data": {
      "text/plain": "                                                                    \n                                                                    \nInitiated  . . . . . . . . . . . . . . . . . .              20:41:58\nStatus     . . . . . . . . . . . . . . . . . .  Loading Dependencies\nEstimator  . . . . . . . . . . . . . . . . . .     Compiling Library",
      "text/html": "<div>\n<style scoped>\n    .dataframe tbody tr th:only-of-type {\n        vertical-align: middle;\n    }\n\n    .dataframe tbody tr th {\n        vertical-align: top;\n    }\n\n    .dataframe thead th {\n        text-align: right;\n    }\n</style>\n<table border=\"1\" class=\"dataframe\">\n  <thead>\n    <tr style=\"text-align: right;\">\n      <th></th>\n      <th></th>\n      <th></th>\n    </tr>\n    <tr>\n      <th></th>\n      <th></th>\n      <th></th>\n    </tr>\n  </thead>\n  <tbody>\n    <tr>\n      <th>Initiated</th>\n      <td>. . . . . . . . . . . . . . . . . .</td>\n      <td>20:41:58</td>\n    </tr>\n    <tr>\n      <th>Status</th>\n      <td>. . . . . . . . . . . . . . . . . .</td>\n      <td>Loading Dependencies</td>\n    </tr>\n    <tr>\n      <th>Estimator</th>\n      <td>. . . . . . . . . . . . . . . . . .</td>\n      <td>Compiling Library</td>\n    </tr>\n  </tbody>\n</table>\n</div>"
     },
     "metadata": {},
     "output_type": "display_data"
    },
    {
     "data": {
      "text/plain": "<IPython.core.display.HTML object>",
      "text/html": ""
     },
     "metadata": {},
     "output_type": "display_data"
    },
    {
     "data": {
      "text/plain": "Processing:   0%|          | 0/77 [00:00<?, ?it/s]",
      "application/vnd.jupyter.widget-view+json": {
       "version_major": 2,
       "version_minor": 0,
       "model_id": "19ea78a9e64f464e80c9dc2b77a69561"
      }
     },
     "metadata": {},
     "output_type": "display_data"
    }
   ],
   "source": [
    "best = compare_models()"
   ]
  },
  {
   "cell_type": "code",
   "execution_count": 62,
   "id": "cf31f981",
   "metadata": {
    "pycharm": {
     "name": "#%%\n"
    },
    "scrolled": false
   },
   "outputs": [
    {
     "data": {
      "text/plain": "                                                                    \n                                                                    \nInitiated  . . . . . . . . . . . . . . . . . .              20:42:10\nStatus     . . . . . . . . . . . . . . . . . .  Loading Dependencies\nEstimator  . . . . . . . . . . . . . . . . . .     Compiling Library",
      "text/html": "<div>\n<style scoped>\n    .dataframe tbody tr th:only-of-type {\n        vertical-align: middle;\n    }\n\n    .dataframe tbody tr th {\n        vertical-align: top;\n    }\n\n    .dataframe thead th {\n        text-align: right;\n    }\n</style>\n<table border=\"1\" class=\"dataframe\">\n  <thead>\n    <tr style=\"text-align: right;\">\n      <th></th>\n      <th></th>\n      <th></th>\n    </tr>\n    <tr>\n      <th></th>\n      <th></th>\n      <th></th>\n    </tr>\n  </thead>\n  <tbody>\n    <tr>\n      <th>Initiated</th>\n      <td>. . . . . . . . . . . . . . . . . .</td>\n      <td>20:42:10</td>\n    </tr>\n    <tr>\n      <th>Status</th>\n      <td>. . . . . . . . . . . . . . . . . .</td>\n      <td>Loading Dependencies</td>\n    </tr>\n    <tr>\n      <th>Estimator</th>\n      <td>. . . . . . . . . . . . . . . . . .</td>\n      <td>Compiling Library</td>\n    </tr>\n  </tbody>\n</table>\n</div>"
     },
     "metadata": {},
     "output_type": "display_data"
    },
    {
     "data": {
      "text/plain": "<IPython.core.display.HTML object>",
      "text/html": ""
     },
     "metadata": {},
     "output_type": "display_data"
    },
    {
     "data": {
      "text/plain": "Processing:   0%|          | 0/4 [00:00<?, ?it/s]",
      "application/vnd.jupyter.widget-view+json": {
       "version_major": 2,
       "version_minor": 0,
       "model_id": "af88a6226f384023b14aad58145b7500"
      }
     },
     "metadata": {},
     "output_type": "display_data"
    }
   ],
   "source": [
    "huber_model = create_model('huber')"
   ]
  },
  {
   "cell_type": "code",
   "execution_count": 63,
   "id": "24e9299f",
   "metadata": {
    "pycharm": {
     "name": "#%%\n"
    }
   },
   "outputs": [
    {
     "data": {
      "text/plain": "                                                                    \n                                                                    \nInitiated  . . . . . . . . . . . . . . . . . .              20:42:17\nStatus     . . . . . . . . . . . . . . . . . .  Loading Dependencies\nEstimator  . . . . . . . . . . . . . . . . . .     Compiling Library",
      "text/html": "<div>\n<style scoped>\n    .dataframe tbody tr th:only-of-type {\n        vertical-align: middle;\n    }\n\n    .dataframe tbody tr th {\n        vertical-align: top;\n    }\n\n    .dataframe thead th {\n        text-align: right;\n    }\n</style>\n<table border=\"1\" class=\"dataframe\">\n  <thead>\n    <tr style=\"text-align: right;\">\n      <th></th>\n      <th></th>\n      <th></th>\n    </tr>\n    <tr>\n      <th></th>\n      <th></th>\n      <th></th>\n    </tr>\n  </thead>\n  <tbody>\n    <tr>\n      <th>Initiated</th>\n      <td>. . . . . . . . . . . . . . . . . .</td>\n      <td>20:42:17</td>\n    </tr>\n    <tr>\n      <th>Status</th>\n      <td>. . . . . . . . . . . . . . . . . .</td>\n      <td>Loading Dependencies</td>\n    </tr>\n    <tr>\n      <th>Estimator</th>\n      <td>. . . . . . . . . . . . . . . . . .</td>\n      <td>Compiling Library</td>\n    </tr>\n  </tbody>\n</table>\n</div>"
     },
     "metadata": {},
     "output_type": "display_data"
    },
    {
     "data": {
      "text/plain": "<IPython.core.display.HTML object>",
      "text/html": ""
     },
     "metadata": {},
     "output_type": "display_data"
    },
    {
     "data": {
      "text/plain": "Processing:   0%|          | 0/7 [00:00<?, ?it/s]",
      "application/vnd.jupyter.widget-view+json": {
       "version_major": 2,
       "version_minor": 0,
       "model_id": "bc1eb4aada6d478b9082f2179c93999d"
      }
     },
     "metadata": {},
     "output_type": "display_data"
    },
    {
     "name": "stdout",
     "output_type": "stream",
     "text": [
      "Fitting 10 folds for each of 50 candidates, totalling 500 fits\n"
     ]
    }
   ],
   "source": [
    "tuned_model=tune_model(huber_model,n_iter = 50,choose_better = True)"
   ]
  },
  {
   "cell_type": "code",
   "execution_count": 64,
   "id": "aa5eed76",
   "metadata": {
    "pycharm": {
     "name": "#%%\n"
    },
    "scrolled": true
   },
   "outputs": [
    {
     "data": {
      "text/plain": "interactive(children=(ToggleButtons(description='Plot Type:', icons=('',), options=(('Pipeline Plot', 'pipelin…",
      "application/vnd.jupyter.widget-view+json": {
       "version_major": 2,
       "version_minor": 0,
       "model_id": "98022a8c3b8849f38bc1eb1a92880616"
      }
     },
     "metadata": {},
     "output_type": "display_data"
    }
   ],
   "source": [
    "evaluate_model(tuned_model)"
   ]
  },
  {
   "cell_type": "code",
   "execution_count": 65,
   "id": "9219a7dc",
   "metadata": {
    "pycharm": {
     "name": "#%%\n"
    },
    "scrolled": false
   },
   "outputs": [],
   "source": [
    "#dashboard(tuned_model)"
   ]
  },
  {
   "cell_type": "code",
   "execution_count": 66,
   "id": "1c686739",
   "metadata": {
    "pycharm": {
     "name": "#%%\n"
    }
   },
   "outputs": [],
   "source": [
    "#import deepchecks"
   ]
  },
  {
   "cell_type": "code",
   "execution_count": 67,
   "id": "164cf851",
   "metadata": {
    "pycharm": {
     "name": "#%%\n"
    },
    "scrolled": false
   },
   "outputs": [],
   "source": [
    "#deep_check(tuned_model)"
   ]
  },
  {
   "cell_type": "code",
   "execution_count": 68,
   "id": "1a3726a3",
   "metadata": {
    "pycharm": {
     "name": "#%%\n"
    },
    "scrolled": true
   },
   "outputs": [
    {
     "data": {
      "text/plain": "<IPython.core.display.HTML object>",
      "text/html": ""
     },
     "metadata": {},
     "output_type": "display_data"
    },
    {
     "data": {
      "text/plain": "        BPPD      BAPD  Caudal_gas_MSCFD  Presion_cabeza_psi  \\\n53 -0.389840  0.296706         -0.372258           -1.233341   \n54 -0.586969  1.048568         -0.769322            3.473560   \n55  0.760682  1.772433         -0.588922            0.727868   \n56  0.220756  2.115484         -0.605556            0.727868   \n57  0.293590 -1.038299          2.039318           -1.429462   \n58 -0.632727 -0.037733         -0.597239           -0.448858   \n59 -0.202019 -0.203241          0.126359           -0.841100   \n60 -0.354439  0.361996          1.024618            0.629807   \n61 -0.216770  1.865262         -0.672094            0.237565   \n62 -0.344736  1.070667         -0.583100            0.629807   \n63 -0.619944  0.134289         -0.622190           -1.233341   \n64  2.120330  1.594566         -0.661281            0.139505   \n65  0.803950 -0.916520         -0.339405            4.650285   \n66  3.148260  0.244717          1.656726           -1.233341   \n67 -0.213820  0.830238         -0.630508            1.120109   \n68 -0.474408  1.038130          0.625392           -0.644979   \n69  1.471318  0.529249         -0.630508            1.022049   \n70 -0.090245 -0.217413         -0.738631           -1.037220   \n71  0.082727  2.234449          2.696378            0.629807   \n72 -0.125318 -0.902078         -0.730314            0.335626   \n73 -0.022590 -0.892231          1.074521           -0.056616   \n74 -0.162194  0.054592          0.508951           -0.586142   \n75 -0.231848  0.588090          0.849957           -0.644979   \n76  5.041704 -0.774018          2.496765           -0.448858   \n\n    Temperatura_cabeza_F  Salinidad_ppm   CO2_gas  bicarbonatos_ppm  \\\n53             -0.043085      -0.388329 -0.099685          0.347638   \n54              0.886247      -1.694124  0.428646          2.202917   \n55              1.151770       0.820741 -0.839348         -0.643976   \n56             -0.706893       1.942759  0.956977         -0.100187   \n57             -0.388265      -1.258859  0.111647         -0.963852   \n58              0.886247      -0.001426  0.111647         -0.739939   \n59              0.833142      -1.408784  0.217314          1.307265   \n60              0.886247      -1.423293  1.273975          1.147327   \n61              1.151770       1.086737 -0.416684         -0.388076   \n62              0.886247       0.520892 -0.628016         -0.228138   \n63              0.514514       0.820741 -0.416684         -0.675964   \n64              0.886247       1.328551 -0.839348         -0.420063   \n65             -0.786550       0.675653 -0.628016         -0.132175   \n66              0.886247       1.159281 -0.628016         -1.027827   \n67              0.541067       0.540237 -0.416684         -0.420063   \n68              0.886247      -1.694124  0.111647          2.042979   \n69              0.939352       0.627290 -0.628016         -0.580001   \n70              0.886247       0.288751 -0.628016         -0.516026   \n71              0.886247      -1.597399  0.639978          1.147327   \n72             -1.237940       1.546184 -1.156347         -0.480839   \n73              0.965904       1.231825 -0.839348          1.339253   \n74             -0.016533      -1.249187  0.322980          0.283663   \n75              0.036572      -1.602235  3.070301          1.435215   \n76              0.089677       0.772379 -1.156347         -0.164163   \n\n    dosis_IC_ppm    Fe_ppm       mpy     Label  \n53     -0.360922 -1.122963   0.80521  2.006643  \n54     -1.008262 -1.760997   1.69926  3.550407  \n55     -0.037253  0.085942   2.71055  4.129475  \n56     -0.684592  1.104557   0.71894  3.813034  \n57      1.257427  0.835912   2.31148 -0.026706  \n58     -0.360922 -0.580075   0.29920  1.913442  \n59      1.904766 -1.671449   2.93174  1.945709  \n60     -1.008262 -1.738610   0.74967  2.156779  \n61     -0.684592  1.096722   4.92600  3.567520  \n62      0.610087  0.326604   0.76563  3.062169  \n63     -0.684592  0.947847   1.61922  1.398830  \n64     -0.360922  0.774347   3.65412  3.878214  \n65      2.875776 -0.899092   2.39477  2.141650  \n66     -0.360922  0.483314   2.86979  1.980338  \n67      0.610087 -0.171510  10.41508  3.058246  \n68     -0.684592 -1.682642  12.22338  2.586181  \n69     -0.360922  0.220265   0.51089  2.921281  \n70     -0.522757 -0.255462   2.36558  1.572788  \n71     -0.846427 -1.609884   2.95179  3.727581  \n72     -0.360922  2.353200   0.10024 -0.011182  \n73     -0.360922  0.297501   0.93964 -0.045067  \n74     -1.008262 -1.609884   1.76552  1.756479  \n75     -1.008262  0.835912   3.46174  1.677331  \n76     -0.360922  0.333880   2.45052  0.967525  ",
      "text/html": "<div>\n<style scoped>\n    .dataframe tbody tr th:only-of-type {\n        vertical-align: middle;\n    }\n\n    .dataframe tbody tr th {\n        vertical-align: top;\n    }\n\n    .dataframe thead th {\n        text-align: right;\n    }\n</style>\n<table border=\"1\" class=\"dataframe\">\n  <thead>\n    <tr style=\"text-align: right;\">\n      <th></th>\n      <th>BPPD</th>\n      <th>BAPD</th>\n      <th>Caudal_gas_MSCFD</th>\n      <th>Presion_cabeza_psi</th>\n      <th>Temperatura_cabeza_F</th>\n      <th>Salinidad_ppm</th>\n      <th>CO2_gas</th>\n      <th>bicarbonatos_ppm</th>\n      <th>dosis_IC_ppm</th>\n      <th>Fe_ppm</th>\n      <th>mpy</th>\n      <th>Label</th>\n    </tr>\n  </thead>\n  <tbody>\n    <tr>\n      <th>53</th>\n      <td>-0.389840</td>\n      <td>0.296706</td>\n      <td>-0.372258</td>\n      <td>-1.233341</td>\n      <td>-0.043085</td>\n      <td>-0.388329</td>\n      <td>-0.099685</td>\n      <td>0.347638</td>\n      <td>-0.360922</td>\n      <td>-1.122963</td>\n      <td>0.80521</td>\n      <td>2.006643</td>\n    </tr>\n    <tr>\n      <th>54</th>\n      <td>-0.586969</td>\n      <td>1.048568</td>\n      <td>-0.769322</td>\n      <td>3.473560</td>\n      <td>0.886247</td>\n      <td>-1.694124</td>\n      <td>0.428646</td>\n      <td>2.202917</td>\n      <td>-1.008262</td>\n      <td>-1.760997</td>\n      <td>1.69926</td>\n      <td>3.550407</td>\n    </tr>\n    <tr>\n      <th>55</th>\n      <td>0.760682</td>\n      <td>1.772433</td>\n      <td>-0.588922</td>\n      <td>0.727868</td>\n      <td>1.151770</td>\n      <td>0.820741</td>\n      <td>-0.839348</td>\n      <td>-0.643976</td>\n      <td>-0.037253</td>\n      <td>0.085942</td>\n      <td>2.71055</td>\n      <td>4.129475</td>\n    </tr>\n    <tr>\n      <th>56</th>\n      <td>0.220756</td>\n      <td>2.115484</td>\n      <td>-0.605556</td>\n      <td>0.727868</td>\n      <td>-0.706893</td>\n      <td>1.942759</td>\n      <td>0.956977</td>\n      <td>-0.100187</td>\n      <td>-0.684592</td>\n      <td>1.104557</td>\n      <td>0.71894</td>\n      <td>3.813034</td>\n    </tr>\n    <tr>\n      <th>57</th>\n      <td>0.293590</td>\n      <td>-1.038299</td>\n      <td>2.039318</td>\n      <td>-1.429462</td>\n      <td>-0.388265</td>\n      <td>-1.258859</td>\n      <td>0.111647</td>\n      <td>-0.963852</td>\n      <td>1.257427</td>\n      <td>0.835912</td>\n      <td>2.31148</td>\n      <td>-0.026706</td>\n    </tr>\n    <tr>\n      <th>58</th>\n      <td>-0.632727</td>\n      <td>-0.037733</td>\n      <td>-0.597239</td>\n      <td>-0.448858</td>\n      <td>0.886247</td>\n      <td>-0.001426</td>\n      <td>0.111647</td>\n      <td>-0.739939</td>\n      <td>-0.360922</td>\n      <td>-0.580075</td>\n      <td>0.29920</td>\n      <td>1.913442</td>\n    </tr>\n    <tr>\n      <th>59</th>\n      <td>-0.202019</td>\n      <td>-0.203241</td>\n      <td>0.126359</td>\n      <td>-0.841100</td>\n      <td>0.833142</td>\n      <td>-1.408784</td>\n      <td>0.217314</td>\n      <td>1.307265</td>\n      <td>1.904766</td>\n      <td>-1.671449</td>\n      <td>2.93174</td>\n      <td>1.945709</td>\n    </tr>\n    <tr>\n      <th>60</th>\n      <td>-0.354439</td>\n      <td>0.361996</td>\n      <td>1.024618</td>\n      <td>0.629807</td>\n      <td>0.886247</td>\n      <td>-1.423293</td>\n      <td>1.273975</td>\n      <td>1.147327</td>\n      <td>-1.008262</td>\n      <td>-1.738610</td>\n      <td>0.74967</td>\n      <td>2.156779</td>\n    </tr>\n    <tr>\n      <th>61</th>\n      <td>-0.216770</td>\n      <td>1.865262</td>\n      <td>-0.672094</td>\n      <td>0.237565</td>\n      <td>1.151770</td>\n      <td>1.086737</td>\n      <td>-0.416684</td>\n      <td>-0.388076</td>\n      <td>-0.684592</td>\n      <td>1.096722</td>\n      <td>4.92600</td>\n      <td>3.567520</td>\n    </tr>\n    <tr>\n      <th>62</th>\n      <td>-0.344736</td>\n      <td>1.070667</td>\n      <td>-0.583100</td>\n      <td>0.629807</td>\n      <td>0.886247</td>\n      <td>0.520892</td>\n      <td>-0.628016</td>\n      <td>-0.228138</td>\n      <td>0.610087</td>\n      <td>0.326604</td>\n      <td>0.76563</td>\n      <td>3.062169</td>\n    </tr>\n    <tr>\n      <th>63</th>\n      <td>-0.619944</td>\n      <td>0.134289</td>\n      <td>-0.622190</td>\n      <td>-1.233341</td>\n      <td>0.514514</td>\n      <td>0.820741</td>\n      <td>-0.416684</td>\n      <td>-0.675964</td>\n      <td>-0.684592</td>\n      <td>0.947847</td>\n      <td>1.61922</td>\n      <td>1.398830</td>\n    </tr>\n    <tr>\n      <th>64</th>\n      <td>2.120330</td>\n      <td>1.594566</td>\n      <td>-0.661281</td>\n      <td>0.139505</td>\n      <td>0.886247</td>\n      <td>1.328551</td>\n      <td>-0.839348</td>\n      <td>-0.420063</td>\n      <td>-0.360922</td>\n      <td>0.774347</td>\n      <td>3.65412</td>\n      <td>3.878214</td>\n    </tr>\n    <tr>\n      <th>65</th>\n      <td>0.803950</td>\n      <td>-0.916520</td>\n      <td>-0.339405</td>\n      <td>4.650285</td>\n      <td>-0.786550</td>\n      <td>0.675653</td>\n      <td>-0.628016</td>\n      <td>-0.132175</td>\n      <td>2.875776</td>\n      <td>-0.899092</td>\n      <td>2.39477</td>\n      <td>2.141650</td>\n    </tr>\n    <tr>\n      <th>66</th>\n      <td>3.148260</td>\n      <td>0.244717</td>\n      <td>1.656726</td>\n      <td>-1.233341</td>\n      <td>0.886247</td>\n      <td>1.159281</td>\n      <td>-0.628016</td>\n      <td>-1.027827</td>\n      <td>-0.360922</td>\n      <td>0.483314</td>\n      <td>2.86979</td>\n      <td>1.980338</td>\n    </tr>\n    <tr>\n      <th>67</th>\n      <td>-0.213820</td>\n      <td>0.830238</td>\n      <td>-0.630508</td>\n      <td>1.120109</td>\n      <td>0.541067</td>\n      <td>0.540237</td>\n      <td>-0.416684</td>\n      <td>-0.420063</td>\n      <td>0.610087</td>\n      <td>-0.171510</td>\n      <td>10.41508</td>\n      <td>3.058246</td>\n    </tr>\n    <tr>\n      <th>68</th>\n      <td>-0.474408</td>\n      <td>1.038130</td>\n      <td>0.625392</td>\n      <td>-0.644979</td>\n      <td>0.886247</td>\n      <td>-1.694124</td>\n      <td>0.111647</td>\n      <td>2.042979</td>\n      <td>-0.684592</td>\n      <td>-1.682642</td>\n      <td>12.22338</td>\n      <td>2.586181</td>\n    </tr>\n    <tr>\n      <th>69</th>\n      <td>1.471318</td>\n      <td>0.529249</td>\n      <td>-0.630508</td>\n      <td>1.022049</td>\n      <td>0.939352</td>\n      <td>0.627290</td>\n      <td>-0.628016</td>\n      <td>-0.580001</td>\n      <td>-0.360922</td>\n      <td>0.220265</td>\n      <td>0.51089</td>\n      <td>2.921281</td>\n    </tr>\n    <tr>\n      <th>70</th>\n      <td>-0.090245</td>\n      <td>-0.217413</td>\n      <td>-0.738631</td>\n      <td>-1.037220</td>\n      <td>0.886247</td>\n      <td>0.288751</td>\n      <td>-0.628016</td>\n      <td>-0.516026</td>\n      <td>-0.522757</td>\n      <td>-0.255462</td>\n      <td>2.36558</td>\n      <td>1.572788</td>\n    </tr>\n    <tr>\n      <th>71</th>\n      <td>0.082727</td>\n      <td>2.234449</td>\n      <td>2.696378</td>\n      <td>0.629807</td>\n      <td>0.886247</td>\n      <td>-1.597399</td>\n      <td>0.639978</td>\n      <td>1.147327</td>\n      <td>-0.846427</td>\n      <td>-1.609884</td>\n      <td>2.95179</td>\n      <td>3.727581</td>\n    </tr>\n    <tr>\n      <th>72</th>\n      <td>-0.125318</td>\n      <td>-0.902078</td>\n      <td>-0.730314</td>\n      <td>0.335626</td>\n      <td>-1.237940</td>\n      <td>1.546184</td>\n      <td>-1.156347</td>\n      <td>-0.480839</td>\n      <td>-0.360922</td>\n      <td>2.353200</td>\n      <td>0.10024</td>\n      <td>-0.011182</td>\n    </tr>\n    <tr>\n      <th>73</th>\n      <td>-0.022590</td>\n      <td>-0.892231</td>\n      <td>1.074521</td>\n      <td>-0.056616</td>\n      <td>0.965904</td>\n      <td>1.231825</td>\n      <td>-0.839348</td>\n      <td>1.339253</td>\n      <td>-0.360922</td>\n      <td>0.297501</td>\n      <td>0.93964</td>\n      <td>-0.045067</td>\n    </tr>\n    <tr>\n      <th>74</th>\n      <td>-0.162194</td>\n      <td>0.054592</td>\n      <td>0.508951</td>\n      <td>-0.586142</td>\n      <td>-0.016533</td>\n      <td>-1.249187</td>\n      <td>0.322980</td>\n      <td>0.283663</td>\n      <td>-1.008262</td>\n      <td>-1.609884</td>\n      <td>1.76552</td>\n      <td>1.756479</td>\n    </tr>\n    <tr>\n      <th>75</th>\n      <td>-0.231848</td>\n      <td>0.588090</td>\n      <td>0.849957</td>\n      <td>-0.644979</td>\n      <td>0.036572</td>\n      <td>-1.602235</td>\n      <td>3.070301</td>\n      <td>1.435215</td>\n      <td>-1.008262</td>\n      <td>0.835912</td>\n      <td>3.46174</td>\n      <td>1.677331</td>\n    </tr>\n    <tr>\n      <th>76</th>\n      <td>5.041704</td>\n      <td>-0.774018</td>\n      <td>2.496765</td>\n      <td>-0.448858</td>\n      <td>0.089677</td>\n      <td>0.772379</td>\n      <td>-1.156347</td>\n      <td>-0.164163</td>\n      <td>-0.360922</td>\n      <td>0.333880</td>\n      <td>2.45052</td>\n      <td>0.967525</td>\n    </tr>\n  </tbody>\n</table>\n</div>"
     },
     "execution_count": 68,
     "metadata": {},
     "output_type": "execute_result"
    }
   ],
   "source": [
    "predict_model(tuned_model)"
   ]
  },
  {
   "cell_type": "code",
   "execution_count": 84,
   "id": "e4d79624",
   "metadata": {
    "pycharm": {
     "name": "#%%\n"
    }
   },
   "outputs": [
    {
     "name": "stdout",
     "output_type": "stream",
     "text": [
      "Transformation Pipeline and Model Successfully Saved\n"
     ]
    },
    {
     "data": {
      "text/plain": [
       "(Pipeline(memory=None,\n",
       "          steps=[('dtypes',\n",
       "                  DataTypes_Auto_infer(categorical_features=[],\n",
       "                                       display_types=True, features_todrop=[],\n",
       "                                       id_columns=[], ml_usecase='regression',\n",
       "                                       numerical_features=['dosis_IC_ppm',\n",
       "                                                           'CO2_gas'],\n",
       "                                       target='mpy', time_features=[])),\n",
       "                 ('imputer',\n",
       "                  Simple_Imputer(categorical_strategy='not_available',\n",
       "                                 fill_value_categorical=None,\n",
       "                                 fill_value_numerical=N...\n",
       "                 ('rem_outliers', 'passthrough'), ('cluster_all', 'passthrough'),\n",
       "                 ('dummy', Dummify(target='mpy')),\n",
       "                 ('fix_perfect', Remove_100(target='mpy')),\n",
       "                 ('clean_names', Clean_Colum_Names()),\n",
       "                 ('feature_select', 'passthrough'), ('fix_multi', 'passthrough'),\n",
       "                 ('dfs', 'passthrough'), ('pca', 'passthrough'),\n",
       "                 ['trained_model',\n",
       "                  HuberRegressor(alpha=0.15, epsilon=1.35, fit_intercept=True,\n",
       "                                 max_iter=100, tol=1e-05, warm_start=False)]],\n",
       "          verbose=False),\n",
       " 'corrosion_regressor_less_data_norm.pkl')"
      ]
     },
     "execution_count": 84,
     "metadata": {},
     "output_type": "execute_result"
    }
   ],
   "source": [
    "save_model(tuned_model, model_name = 'corrosion_regressor_less_data_norm')"
   ]
  }
 ],
 "metadata": {
  "kernelspec": {
   "display_name": "Python 3 (ipykernel)",
   "language": "python",
   "name": "python3"
  },
  "language_info": {
   "codemirror_mode": {
    "name": "ipython",
    "version": 3
   },
   "file_extension": ".py",
   "mimetype": "text/x-python",
   "name": "python",
   "nbconvert_exporter": "python",
   "pygments_lexer": "ipython3",
   "version": "3.9.12"
  }
 },
 "nbformat": 4,
 "nbformat_minor": 5
}